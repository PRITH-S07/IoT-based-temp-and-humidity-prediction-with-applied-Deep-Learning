{
  "nbformat": 4,
  "nbformat_minor": 0,
  "metadata": {
    "colab": {
      "name": "Temp_Humidity.ipynb",
      "provenance": []
    },
    "kernelspec": {
      "name": "python3",
      "display_name": "Python 3"
    },
    "language_info": {
      "name": "python"
    }
  },
  "cells": [
    {
      "cell_type": "code",
      "metadata": {
        "id": "BtAHvd0uFQX6"
      },
      "source": [
        "import csv\n",
        "import numpy as np\n",
        "import pandas as pd \n",
        "import matplotlib.pyplot as plt"
      ],
      "execution_count": 98,
      "outputs": []
    },
    {
      "cell_type": "code",
      "metadata": {
        "colab": {
          "base_uri": "https://localhost:8080/",
          "height": 206
        },
        "id": "XQ3FsdZCFzGO",
        "outputId": "bfab128c-85ca-4651-915a-f9da4fa53b31"
      },
      "source": [
        "df=pd.read_csv('log_temp.csv',header=None)\n",
        "df.head()"
      ],
      "execution_count": 99,
      "outputs": [
        {
          "output_type": "execute_result",
          "data": {
            "text/html": [
              "<div>\n",
              "<style scoped>\n",
              "    .dataframe tbody tr th:only-of-type {\n",
              "        vertical-align: middle;\n",
              "    }\n",
              "\n",
              "    .dataframe tbody tr th {\n",
              "        vertical-align: top;\n",
              "    }\n",
              "\n",
              "    .dataframe thead th {\n",
              "        text-align: right;\n",
              "    }\n",
              "</style>\n",
              "<table border=\"1\" class=\"dataframe\">\n",
              "  <thead>\n",
              "    <tr style=\"text-align: right;\">\n",
              "      <th></th>\n",
              "      <th>0</th>\n",
              "      <th>1</th>\n",
              "      <th>2</th>\n",
              "      <th>3</th>\n",
              "    </tr>\n",
              "  </thead>\n",
              "  <tbody>\n",
              "    <tr>\n",
              "      <th>0</th>\n",
              "      <td>3/14/19</td>\n",
              "      <td>19:33:07</td>\n",
              "      <td>T=22.0</td>\n",
              "      <td>H=20.0</td>\n",
              "    </tr>\n",
              "    <tr>\n",
              "      <th>1</th>\n",
              "      <td>3/14/19</td>\n",
              "      <td>19:38:10</td>\n",
              "      <td>T=22.0</td>\n",
              "      <td>H=20.0</td>\n",
              "    </tr>\n",
              "    <tr>\n",
              "      <th>2</th>\n",
              "      <td>3/14/19</td>\n",
              "      <td>19:43:11</td>\n",
              "      <td>T=22.0</td>\n",
              "      <td>H=26.0</td>\n",
              "    </tr>\n",
              "    <tr>\n",
              "      <th>3</th>\n",
              "      <td>3/14/19</td>\n",
              "      <td>19:48:14</td>\n",
              "      <td>T=22.0</td>\n",
              "      <td>H=26.0</td>\n",
              "    </tr>\n",
              "    <tr>\n",
              "      <th>4</th>\n",
              "      <td>3/14/19</td>\n",
              "      <td>19:53:15</td>\n",
              "      <td>T=22.0</td>\n",
              "      <td>H=20.0</td>\n",
              "    </tr>\n",
              "  </tbody>\n",
              "</table>\n",
              "</div>"
            ],
            "text/plain": [
              "         0         1       2       3\n",
              "0  3/14/19  19:33:07  T=22.0  H=20.0\n",
              "1  3/14/19  19:38:10  T=22.0  H=20.0\n",
              "2  3/14/19  19:43:11  T=22.0  H=26.0\n",
              "3  3/14/19  19:48:14  T=22.0  H=26.0\n",
              "4  3/14/19  19:53:15  T=22.0  H=20.0"
            ]
          },
          "metadata": {},
          "execution_count": 99
        }
      ]
    },
    {
      "cell_type": "code",
      "metadata": {
        "id": "uTZW-ueHF4NM"
      },
      "source": [
        "df=df.rename(columns={0:'Date',1:'Time_Stamp',2:'Temperature',3:'Humidity'})"
      ],
      "execution_count": 100,
      "outputs": []
    },
    {
      "cell_type": "code",
      "metadata": {
        "colab": {
          "base_uri": "https://localhost:8080/",
          "height": 206
        },
        "id": "4-zVik82GDBi",
        "outputId": "7806027c-b861-4ef0-cf6d-633c9917cb97"
      },
      "source": [
        "df.head()"
      ],
      "execution_count": 101,
      "outputs": [
        {
          "output_type": "execute_result",
          "data": {
            "text/html": [
              "<div>\n",
              "<style scoped>\n",
              "    .dataframe tbody tr th:only-of-type {\n",
              "        vertical-align: middle;\n",
              "    }\n",
              "\n",
              "    .dataframe tbody tr th {\n",
              "        vertical-align: top;\n",
              "    }\n",
              "\n",
              "    .dataframe thead th {\n",
              "        text-align: right;\n",
              "    }\n",
              "</style>\n",
              "<table border=\"1\" class=\"dataframe\">\n",
              "  <thead>\n",
              "    <tr style=\"text-align: right;\">\n",
              "      <th></th>\n",
              "      <th>Date</th>\n",
              "      <th>Time_Stamp</th>\n",
              "      <th>Temperature</th>\n",
              "      <th>Humidity</th>\n",
              "    </tr>\n",
              "  </thead>\n",
              "  <tbody>\n",
              "    <tr>\n",
              "      <th>0</th>\n",
              "      <td>3/14/19</td>\n",
              "      <td>19:33:07</td>\n",
              "      <td>T=22.0</td>\n",
              "      <td>H=20.0</td>\n",
              "    </tr>\n",
              "    <tr>\n",
              "      <th>1</th>\n",
              "      <td>3/14/19</td>\n",
              "      <td>19:38:10</td>\n",
              "      <td>T=22.0</td>\n",
              "      <td>H=20.0</td>\n",
              "    </tr>\n",
              "    <tr>\n",
              "      <th>2</th>\n",
              "      <td>3/14/19</td>\n",
              "      <td>19:43:11</td>\n",
              "      <td>T=22.0</td>\n",
              "      <td>H=26.0</td>\n",
              "    </tr>\n",
              "    <tr>\n",
              "      <th>3</th>\n",
              "      <td>3/14/19</td>\n",
              "      <td>19:48:14</td>\n",
              "      <td>T=22.0</td>\n",
              "      <td>H=26.0</td>\n",
              "    </tr>\n",
              "    <tr>\n",
              "      <th>4</th>\n",
              "      <td>3/14/19</td>\n",
              "      <td>19:53:15</td>\n",
              "      <td>T=22.0</td>\n",
              "      <td>H=20.0</td>\n",
              "    </tr>\n",
              "  </tbody>\n",
              "</table>\n",
              "</div>"
            ],
            "text/plain": [
              "      Date Time_Stamp Temperature Humidity\n",
              "0  3/14/19   19:33:07      T=22.0   H=20.0\n",
              "1  3/14/19   19:38:10      T=22.0   H=20.0\n",
              "2  3/14/19   19:43:11      T=22.0   H=26.0\n",
              "3  3/14/19   19:48:14      T=22.0   H=26.0\n",
              "4  3/14/19   19:53:15      T=22.0   H=20.0"
            ]
          },
          "metadata": {},
          "execution_count": 101
        }
      ]
    },
    {
      "cell_type": "code",
      "metadata": {
        "colab": {
          "base_uri": "https://localhost:8080/"
        },
        "id": "v1rYQpNkGD7W",
        "outputId": "5315dd79-7fca-4859-93fa-115bc6ce3d6e"
      },
      "source": [
        "#df.info()\n",
        "df=df.loc[df['Temperature']!='error']\n",
        "df.info()"
      ],
      "execution_count": 102,
      "outputs": [
        {
          "output_type": "stream",
          "name": "stdout",
          "text": [
            "<class 'pandas.core.frame.DataFrame'>\n",
            "Int64Index: 320 entries, 0 to 335\n",
            "Data columns (total 4 columns):\n",
            " #   Column       Non-Null Count  Dtype \n",
            "---  ------       --------------  ----- \n",
            " 0   Date         320 non-null    object\n",
            " 1   Time_Stamp   320 non-null    object\n",
            " 2   Temperature  320 non-null    object\n",
            " 3   Humidity     320 non-null    object\n",
            "dtypes: object(4)\n",
            "memory usage: 12.5+ KB\n"
          ]
        }
      ]
    },
    {
      "cell_type": "code",
      "metadata": {
        "id": "MDlcLyAhHSuf"
      },
      "source": [
        "df['Temperature'] = df['Temperature'].astype(str).str.replace('T=', '')\n",
        "df['Humidity'] = df['Humidity'].astype(str).str.replace('H=', '')\n",
        "df['Temperature']=pd.to_numeric(df['Temperature'], errors='coerce')\n",
        "df['Humidity']=pd.to_numeric(df['Humidity'], errors='coerce')\n",
        "#df['Temperature']=pd.to_numeric(df['Temperature'], errors='coerce').fillna(0.0)\n",
        "#df['Humidity']=pd.to_numeric(df['Humidity'], errors='coerce').fillna(0.0)"
      ],
      "execution_count": 103,
      "outputs": []
    },
    {
      "cell_type": "code",
      "metadata": {
        "colab": {
          "base_uri": "https://localhost:8080/"
        },
        "id": "yg26KhPIHhkt",
        "outputId": "aa0d301b-66ec-48ec-c3fc-930b9eb5142a"
      },
      "source": [
        "df.info()"
      ],
      "execution_count": 104,
      "outputs": [
        {
          "output_type": "stream",
          "name": "stdout",
          "text": [
            "<class 'pandas.core.frame.DataFrame'>\n",
            "Int64Index: 320 entries, 0 to 335\n",
            "Data columns (total 4 columns):\n",
            " #   Column       Non-Null Count  Dtype  \n",
            "---  ------       --------------  -----  \n",
            " 0   Date         320 non-null    object \n",
            " 1   Time_Stamp   320 non-null    object \n",
            " 2   Temperature  320 non-null    float64\n",
            " 3   Humidity     320 non-null    float64\n",
            "dtypes: float64(2), object(2)\n",
            "memory usage: 12.5+ KB\n"
          ]
        }
      ]
    },
    {
      "cell_type": "code",
      "metadata": {
        "colab": {
          "base_uri": "https://localhost:8080/"
        },
        "id": "ArfQfUBWGVtg",
        "outputId": "4abd2c8b-1638-4a49-87a5-31b537b4403f"
      },
      "source": [
        "df.shape"
      ],
      "execution_count": 105,
      "outputs": [
        {
          "output_type": "execute_result",
          "data": {
            "text/plain": [
              "(320, 4)"
            ]
          },
          "metadata": {},
          "execution_count": 105
        }
      ]
    },
    {
      "cell_type": "code",
      "metadata": {
        "colab": {
          "base_uri": "https://localhost:8080/",
          "height": 580
        },
        "id": "z7fBZbnnHBoX",
        "outputId": "5a4ce2c0-5ec3-49f5-8a04-4ccc65c46a8a"
      },
      "source": [
        "ct=0\n",
        "full_columns=['Temperature','Humidity']\n",
        "for i in range(2,df.shape[1]):\n",
        "  plt.plot(df.values[:, i:i+1])\n",
        "  plt.title(df.columns[i])\n",
        "  plt.show()\n",
        "  print('--------------')\n",
        "  ct+=1"
      ],
      "execution_count": 106,
      "outputs": [
        {
          "output_type": "display_data",
          "data": {
            "image/png": "[encoded data removed]",
            "text/plain": [
              "<Figure size 432x288 with 1 Axes>"
            ]
          },
          "metadata": {
            "needs_background": "light"
          }
        },
        {
          "output_type": "stream",
          "name": "stdout",
          "text": [
            "--------------\n"
          ]
        },
        {
          "output_type": "display_data",
          "data": {
            "image/png": "[encoded data removed]",
            "text/plain": [
              "<Figure size 432x288 with 1 Axes>"
            ]
          },
          "metadata": {
            "needs_background": "light"
          }
        },
        {
          "output_type": "stream",
          "name": "stdout",
          "text": [
            "--------------\n"
          ]
        }
      ]
    },
    {
      "cell_type": "markdown",
      "metadata": {
        "id": "Thx5BjTRccUC"
      },
      "source": [
        "##LSTM_APPROACH"
      ]
    },
    {
      "cell_type": "code",
      "metadata": {
        "id": "1q9L25j7LpbI"
      },
      "source": [
        "import math\n",
        "val=math.floor(80/100*len(df))-1\n",
        "train_data=df.iloc[:val, 2:].values"
      ],
      "execution_count": 235,
      "outputs": []
    },
    {
      "cell_type": "code",
      "metadata": {
        "colab": {
          "base_uri": "https://localhost:8080/"
        },
        "id": "M50J47UCEeAN",
        "outputId": "ae42322e-b3df-4aaf-9190-0a7c80169239"
      },
      "source": [
        "train_data.shape"
      ],
      "execution_count": 236,
      "outputs": [
        {
          "output_type": "execute_result",
          "data": {
            "text/plain": [
              "(255, 2)"
            ]
          },
          "metadata": {},
          "execution_count": 236
        }
      ]
    },
    {
      "cell_type": "code",
      "metadata": {
        "id": "XZHdm8opEltp"
      },
      "source": [
        "from sklearn.preprocessing import MinMaxScaler\n",
        "scaler = MinMaxScaler(feature_range = (0, 1))\n",
        "train_s = scaler.fit_transform(train_data)"
      ],
      "execution_count": 237,
      "outputs": []
    },
    {
      "cell_type": "code",
      "metadata": {
        "colab": {
          "base_uri": "https://localhost:8080/"
        },
        "id": "xoKNUP00FocQ",
        "outputId": "797e00c8-b6e4-4229-ca22-dc1ed8aba653"
      },
      "source": [
        "train_s.shape"
      ],
      "execution_count": 238,
      "outputs": [
        {
          "output_type": "execute_result",
          "data": {
            "text/plain": [
              "(255, 2)"
            ]
          },
          "metadata": {},
          "execution_count": 238
        }
      ]
    },
    {
      "cell_type": "code",
      "metadata": {
        "id": "nx5cxOHCEp_B"
      },
      "source": [
        "X_train = []\n",
        "y_train = []\n",
        "for i in range(3, val):\n",
        "    X_train.append(train_s[i-3:i, 0:])\n",
        "    y_train.append(train_s[i, 0:])\n",
        "X_train, y_train = np.array(X_train), np.array(y_train)\n",
        "\n",
        "X_train = np.reshape(X_train, (X_train.shape[0], X_train.shape[1], 2))"
      ],
      "execution_count": 259,
      "outputs": []
    },
    {
      "cell_type": "code",
      "metadata": {
        "id": "1CwTsS9kE3GG"
      },
      "source": [
        "from keras.models import Sequential\n",
        "from keras.layers import Dense\n",
        "from keras.layers import LSTM\n",
        "from keras.layers import Dropout"
      ],
      "execution_count": 260,
      "outputs": []
    },
    {
      "cell_type": "code",
      "metadata": {
        "colab": {
          "base_uri": "https://localhost:8080/"
        },
        "id": "sr4iH7emE_ND",
        "outputId": "7bc6587c-aee9-45bb-9e59-d822cc2016f1"
      },
      "source": [
        "X_train.shape"
      ],
      "execution_count": 261,
      "outputs": [
        {
          "output_type": "execute_result",
          "data": {
            "text/plain": [
              "(252, 3, 2)"
            ]
          },
          "metadata": {},
          "execution_count": 261
        }
      ]
    },
    {
      "cell_type": "code",
      "metadata": {
        "colab": {
          "base_uri": "https://localhost:8080/"
        },
        "id": "0h9HKAFROa4p",
        "outputId": "2d7d3b02-a5be-4a70-a21b-6971f4e35725"
      },
      "source": [
        "test_data=df.iloc[val:, 2:].values\n",
        "print(test_data.shape)\n",
        "from sklearn.preprocessing import MinMaxScaler\n",
        "scaler = MinMaxScaler(feature_range = (0, 1))\n",
        "test_s = scaler.fit_transform(test_data)\n",
        "X_test = []\n",
        "y_test = []\n",
        "for i in range(3, len(df)-val):\n",
        "    X_test.append(test_s[i-3:i, 0:])\n",
        "    y_test.append(test_s[i, 0:])\n",
        "X_test, y_test = np.array(X_test), np.array(y_test)\n",
        "print(X_test.shape)"
      ],
      "execution_count": 262,
      "outputs": [
        {
          "output_type": "stream",
          "name": "stdout",
          "text": [
            "(65, 2)\n",
            "(62, 3, 2)\n"
          ]
        }
      ]
    },
    {
      "cell_type": "code",
      "metadata": {
        "colab": {
          "base_uri": "https://localhost:8080/"
        },
        "id": "fPhk3WgbE5qd",
        "outputId": "cef9e7d6-33a6-48c7-d439-2ed576d8941a"
      },
      "source": [
        "seq = Sequential()\n",
        "seq.add(LSTM(units = 50, return_sequences = True, input_shape = (X_train.shape[1], 2)))\n",
        "seq.add(LSTM(units = 50, return_sequences = True))\n",
        "seq.add(Dropout(0.2))\n",
        "\n",
        "seq.add(LSTM(units = 50, return_sequences = True))\n",
        "seq.add(Dropout(0.2))\n",
        "\n",
        "seq.add(LSTM(units = 50))\n",
        "\n",
        "seq.add(Dense(units = 2))\n",
        "\n",
        "seq.compile(optimizer = 'adam', loss = 'mean_squared_error',  metrics=['accuracy'])\n",
        "\n",
        "hist=seq.fit(X_train, y_train, epochs = 10, batch_size = 32, validation_data=(X_test, y_test))\n",
        "seq.save('lstm.hdf5')"
      ],
      "execution_count": 263,
      "outputs": [
        {
          "output_type": "stream",
          "name": "stdout",
          "text": [
            "Epoch 1/10\n",
            "8/8 [==============================] - 8s 224ms/step - loss: 0.1163 - accuracy: 0.9722 - val_loss: 0.1912 - val_accuracy: 0.8065\n",
            "Epoch 2/10\n",
            "8/8 [==============================] - 0s 15ms/step - loss: 0.0756 - accuracy: 0.9960 - val_loss: 0.1174 - val_accuracy: 0.8065\n",
            "Epoch 3/10\n",
            "8/8 [==============================] - 0s 14ms/step - loss: 0.0264 - accuracy: 0.9960 - val_loss: 0.0520 - val_accuracy: 0.8065\n",
            "Epoch 4/10\n",
            "8/8 [==============================] - 0s 16ms/step - loss: 0.0207 - accuracy: 0.9960 - val_loss: 0.0589 - val_accuracy: 0.8065\n",
            "Epoch 5/10\n",
            "8/8 [==============================] - 0s 16ms/step - loss: 0.0154 - accuracy: 0.9960 - val_loss: 0.0695 - val_accuracy: 0.8065\n",
            "Epoch 6/10\n",
            "8/8 [==============================] - 0s 16ms/step - loss: 0.0149 - accuracy: 0.9960 - val_loss: 0.0556 - val_accuracy: 0.8065\n",
            "Epoch 7/10\n",
            "8/8 [==============================] - 0s 17ms/step - loss: 0.0115 - accuracy: 0.9960 - val_loss: 0.0496 - val_accuracy: 0.8065\n",
            "Epoch 8/10\n",
            "8/8 [==============================] - 0s 16ms/step - loss: 0.0101 - accuracy: 0.9960 - val_loss: 0.0501 - val_accuracy: 0.8065\n",
            "Epoch 9/10\n",
            "8/8 [==============================] - 0s 16ms/step - loss: 0.0079 - accuracy: 0.9960 - val_loss: 0.0468 - val_accuracy: 0.8065\n",
            "Epoch 10/10\n",
            "8/8 [==============================] - 0s 16ms/step - loss: 0.0053 - accuracy: 0.9960 - val_loss: 0.0452 - val_accuracy: 0.8065\n"
          ]
        }
      ]
    },
    {
      "cell_type": "code",
      "metadata": {
        "colab": {
          "base_uri": "https://localhost:8080/",
          "height": 87
        },
        "id": "zkI-VRgBFFG4",
        "outputId": "8b604ff4-8861-4f3a-ba62-7eb7f3736f34"
      },
      "source": [
        "test_data=df.iloc[val:, 2:].values\n",
        "print(test_data.shape)\n",
        "from sklearn.preprocessing import MinMaxScaler\n",
        "scaler = MinMaxScaler(feature_range = (0, 1))\n",
        "test_s = scaler.fit_transform(test_data)\n",
        "X_test = []\n",
        "y_test = []\n",
        "for i in range(1, len(df)-val):\n",
        "    X_test.append(test_s[i-1:i, 0:])\n",
        "    y_test.append(test_s[i, 0:])\n",
        "X_test, y_test = np.array(X_test), np.array(y_test)\n",
        "print(X_test.shape)\n",
        "\n",
        "'''X_test = np.reshape(X_test, (X_test.shape[0], X_test.shape[1], 2))\n",
        "predicted_stock_price = seq.predict(X_test)\n",
        "predicted_stock_price = scaler.inverse_transform(predicted_stock_price)'''"
      ],
      "execution_count": 249,
      "outputs": [
        {
          "output_type": "stream",
          "name": "stdout",
          "text": [
            "(65, 2)\n",
            "(64, 1, 2)\n"
          ]
        },
        {
          "output_type": "execute_result",
          "data": {
            "application/vnd.google.colaboratory.intrinsic+json": {
              "type": "string"
            },
            "text/plain": [
              "'X_test = np.reshape(X_test, (X_test.shape[0], X_test.shape[1], 2))\\npredicted_stock_price = seq.predict(X_test)\\npredicted_stock_price = scaler.inverse_transform(predicted_stock_price)'"
            ]
          },
          "metadata": {},
          "execution_count": 249
        }
      ]
    },
    {
      "cell_type": "code",
      "metadata": {
        "colab": {
          "base_uri": "https://localhost:8080/",
          "height": 70
        },
        "id": "HzAUkCUGHf-s",
        "outputId": "87250d58-6c70-49b8-95f8-7a2a72563ccd"
      },
      "source": [
        "'''X_test = []\n",
        "y_test = []\n",
        "for i in range(val,):\n",
        "    X_test.append(train_s[i-20:i, 0:])\n",
        "    y_test.append(train_s[i, 0:])\n",
        "X_train, y_train = np.array(X_train), np.array(y_train)\n",
        "\n",
        "X_train = np.reshape(X_train, (X_train.shape[0], X_train.shape[1], 2))\n",
        "predicted_stock_price = seq.predict(X_train)\n",
        "predicted_stock_price = scaler.inverse_transform(predicted_stock_price)\n",
        "print(predicted_stock_price)'''"
      ],
      "execution_count": 250,
      "outputs": [
        {
          "output_type": "execute_result",
          "data": {
            "application/vnd.google.colaboratory.intrinsic+json": {
              "type": "string"
            },
            "text/plain": [
              "'X_test = []\\ny_test = []\\nfor i in range(val,):\\n    X_test.append(train_s[i-20:i, 0:])\\n    y_test.append(train_s[i, 0:])\\nX_train, y_train = np.array(X_train), np.array(y_train)\\n\\nX_train = np.reshape(X_train, (X_train.shape[0], X_train.shape[1], 2))\\npredicted_stock_price = seq.predict(X_train)\\npredicted_stock_price = scaler.inverse_transform(predicted_stock_price)\\nprint(predicted_stock_price)'"
            ]
          },
          "metadata": {},
          "execution_count": 250
        }
      ]
    },
    {
      "cell_type": "code",
      "metadata": {
        "colab": {
          "base_uri": "https://localhost:8080/",
          "height": 295
        },
        "id": "wKuQ2rsbH7sD",
        "outputId": "e22c41a4-e36f-4eb8-9b64-47094e30c78c"
      },
      "source": [
        "plt.plot(hist.history['loss'])\n",
        "plt.plot(hist.history['val_loss'])\n",
        "plt.title('Kaggle Model Loss: Training versus Validation')\n",
        "plt.ylabel('Loss (MAE)')\n",
        "plt.xlabel('Epoch')\n",
        "plt.legend(['train', 'test'], loc='center right')\n",
        "plt.show()"
      ],
      "execution_count": 264,
      "outputs": [
        {
          "output_type": "display_data",
          "data": {
            "image/png": "[encoded data removed]",
            "text/plain": [
              "<Figure size 432x288 with 1 Axes>"
            ]
          },
          "metadata": {
            "needs_background": "light"
          }
        }
      ]
    },
    {
      "cell_type": "markdown",
      "metadata": {
        "id": "s8azlBCrcfvz"
      },
      "source": [
        "##LINEAR_REGRESSION_APPROACH"
      ]
    },
    {
      "cell_type": "code",
      "metadata": {
        "colab": {
          "base_uri": "https://localhost:8080/"
        },
        "id": "kGIY6qz5hlzn",
        "outputId": "57f9b2a6-6920-44b7-f1ff-86e7d245dbd5"
      },
      "source": [
        "import numpy as np\n",
        "from sklearn.model_selection import train_test_split\n",
        "X=df[['Humidity']]\n",
        "y=df['Temperature']\n",
        "X_train,X_test,y_train,y_test=train_test_split(x_scaled,y,test_size=0.1, random_state=42)\n",
        "from sklearn.linear_model import LinearRegression\n",
        "regr = LinearRegression()\n",
        "regr.fit(X_train,y_train)"
      ],
      "execution_count": 394,
      "outputs": [
        {
          "output_type": "execute_result",
          "data": {
            "text/plain": [
              "LinearRegression(copy_X=True, fit_intercept=True, n_jobs=None, normalize=False)"
            ]
          },
          "metadata": {},
          "execution_count": 394
        }
      ]
    },
    {
      "cell_type": "code",
      "metadata": {
        "id": "Fa9OZ_Xb4647"
      },
      "source": [
        "y_pred=regr.predict(X_test)"
      ],
      "execution_count": 395,
      "outputs": []
    },
    {
      "cell_type": "code",
      "metadata": {
        "colab": {
          "base_uri": "https://localhost:8080/"
        },
        "id": "y8amqbd25cR_",
        "outputId": "d3482242-5b43-4d3d-c950-0bd2ada13298"
      },
      "source": [
        "import matplotlib.pyplot as plt\n",
        "import numpy as np\n",
        "from sklearn import datasets, linear_model\n",
        "from sklearn.metrics import mean_squared_error, r2_score\n",
        "print(X_train.shape)\n",
        "print(X_test.shape)\n",
        "y_train=y_train.values.reshape((y_train.shape[0],1))\n",
        "y_test=y_test.values.reshape((y_test.shape[0],1))\n",
        "print(y_train.shape)\n",
        "print(y_test.shape)"
      ],
      "execution_count": 396,
      "outputs": [
        {
          "output_type": "stream",
          "name": "stdout",
          "text": [
            "(288, 1)\n",
            "(32, 1)\n",
            "(288, 1)\n",
            "(32, 1)\n"
          ]
        }
      ]
    },
    {
      "cell_type": "code",
      "metadata": {
        "colab": {
          "base_uri": "https://localhost:8080/"
        },
        "id": "2oGp_3Dt5hDA",
        "outputId": "00d3c7a8-beb5-4aea-ebf7-71642ea46a2a"
      },
      "source": [
        "# The mean squared error\n",
        "print('OUTPUT USING LINEAR REGRESSION BY SKLEARN:')\n",
        "print('Mean squared error: %.2f'\n",
        "      % mean_squared_error(y_test, y_pred))\n",
        "# The coefficient of determination: 1 is perfect prediction\n",
        "print('Coefficient of determination: %.2f'\n",
        "      % r2_score(y_test, y_pred))"
      ],
      "execution_count": 397,
      "outputs": [
        {
          "output_type": "stream",
          "name": "stdout",
          "text": [
            "OUTPUT USING LINEAR REGRESSION BY SKLEARN:\n",
            "Mean squared error: 14.42\n",
            "Coefficient of determination: 0.33\n"
          ]
        }
      ]
    },
    {
      "cell_type": "code",
      "metadata": {
        "colab": {
          "base_uri": "https://localhost:8080/"
        },
        "id": "NuhJ6FYiZEIF",
        "outputId": "c41af76e-bc05-4eea-df12-153f8793c1c7"
      },
      "source": [
        "r2_score = regr.score(X_test,y_test)\n",
        "print(r2_score*100,'%')"
      ],
      "execution_count": 401,
      "outputs": [
        {
          "output_type": "stream",
          "name": "stdout",
          "text": [
            "33.10164443279635 %\n"
          ]
        }
      ]
    },
    {
      "cell_type": "markdown",
      "metadata": {
        "id": "UO8S0U7d59z1"
      },
      "source": [
        "##ANN_approach"
      ]
    },
    {
      "cell_type": "code",
      "metadata": {
        "id": "JZEkHT0qR6TN"
      },
      "source": [
        "X=df[['Humidity']].values\n",
        "y=df[['Temperature']].values"
      ],
      "execution_count": 370,
      "outputs": []
    },
    {
      "cell_type": "code",
      "metadata": {
        "id": "ZhzKhdfI52Ed"
      },
      "source": [
        "from sklearn.model_selection import train_test_split"
      ],
      "execution_count": 371,
      "outputs": []
    },
    {
      "cell_type": "code",
      "metadata": {
        "id": "pYs0-gPdR4Kr"
      },
      "source": [
        "X_train, X_test, Y_train, Y_test = train_test_split(X, y, test_size=0.2, random_state=42)"
      ],
      "execution_count": 372,
      "outputs": []
    },
    {
      "cell_type": "code",
      "metadata": {
        "colab": {
          "base_uri": "https://localhost:8080/"
        },
        "id": "LIjSgWdOSQB2",
        "outputId": "a62e4ed1-27ed-45fb-8611-45a56dadb02b"
      },
      "source": [
        "print(X_train.shape)\n",
        "print(X_test.shape)\n",
        "print(Y_train.shape)\n",
        "print(Y_test.shape)"
      ],
      "execution_count": 373,
      "outputs": [
        {
          "output_type": "stream",
          "name": "stdout",
          "text": [
            "(256, 1)\n",
            "(64, 1)\n",
            "(256, 1)\n",
            "(64, 1)\n"
          ]
        }
      ]
    },
    {
      "cell_type": "code",
      "metadata": {
        "id": "fB7aCf6HR8Xh"
      },
      "source": [
        "from numpy import loadtxt\n",
        "from keras.models import Sequential\n",
        "from keras.layers import Dense"
      ],
      "execution_count": 374,
      "outputs": []
    },
    {
      "cell_type": "code",
      "metadata": {
        "id": "N6DNx8JFSB2E"
      },
      "source": [
        "model = Sequential()\n",
        "model.add(Dense(12, input_dim=1, activation='relu'))\n",
        "model.add(Dense(32, activation='relu'))\n",
        "model.add(Dense(64, activation='relu'))\n",
        "model.add(Dense(32, activation='relu'))\n",
        "model.add(Dense(1))"
      ],
      "execution_count": 375,
      "outputs": []
    },
    {
      "cell_type": "code",
      "metadata": {
        "id": "VPQhDGkxSFpm"
      },
      "source": [
        "model.compile(loss='mean_squared_error',optimizer='adam', metrics=['accuracy'])"
      ],
      "execution_count": 376,
      "outputs": []
    },
    {
      "cell_type": "code",
      "metadata": {
        "colab": {
          "base_uri": "https://localhost:8080/"
        },
        "id": "KLrI9AefSHqk",
        "outputId": "d48dfff4-c9c8-4e49-8fc1-4155e3667e2d"
      },
      "source": [
        "hist=model.fit(X_train, Y_train, epochs=10, batch_size=10)"
      ],
      "execution_count": 377,
      "outputs": [
        {
          "output_type": "stream",
          "name": "stdout",
          "text": [
            "Epoch 1/10\n",
            "26/26 [==============================] - 1s 3ms/step - loss: 278.2862 - accuracy: 0.0000e+00\n",
            "Epoch 2/10\n",
            "26/26 [==============================] - 0s 3ms/step - loss: 139.8909 - accuracy: 0.0000e+00\n",
            "Epoch 3/10\n",
            "26/26 [==============================] - 0s 3ms/step - loss: 116.4315 - accuracy: 0.0000e+00\n",
            "Epoch 4/10\n",
            "26/26 [==============================] - 0s 3ms/step - loss: 114.6223 - accuracy: 0.0000e+00\n",
            "Epoch 5/10\n",
            "26/26 [==============================] - 0s 3ms/step - loss: 114.1818 - accuracy: 0.0000e+00\n",
            "Epoch 6/10\n",
            "26/26 [==============================] - 0s 3ms/step - loss: 117.4995 - accuracy: 0.0000e+00\n",
            "Epoch 7/10\n",
            "26/26 [==============================] - 0s 3ms/step - loss: 112.7708 - accuracy: 0.0000e+00\n",
            "Epoch 8/10\n",
            "26/26 [==============================] - 0s 4ms/step - loss: 119.3562 - accuracy: 0.0000e+00\n",
            "Epoch 9/10\n",
            "26/26 [==============================] - 0s 3ms/step - loss: 113.1310 - accuracy: 0.0000e+00\n",
            "Epoch 10/10\n",
            "26/26 [==============================] - 0s 4ms/step - loss: 106.4692 - accuracy: 0.0000e+00\n"
          ]
        }
      ]
    },
    {
      "cell_type": "code",
      "metadata": {
        "colab": {
          "base_uri": "https://localhost:8080/",
          "height": 295
        },
        "id": "GP6PXcHcSJVS",
        "outputId": "c8b38e3c-ba83-4fe7-cd2f-bd677409442c"
      },
      "source": [
        "plt.plot(hist.history['loss'])\n",
        "plt.title('Model loss')\n",
        "plt.ylabel('Loss')\n",
        "plt.xlabel('Epoch')\n",
        "plt.legend(['Train', 'Val'], loc='upper right')\n",
        "plt.show()"
      ],
      "execution_count": 378,
      "outputs": [
        {
          "output_type": "display_data",
          "data": {
            "image/png": "[encoded data removed]",
            "text/plain": [
              "<Figure size 432x288 with 1 Axes>"
            ]
          },
          "metadata": {
            "needs_background": "light"
          }
        }
      ]
    },
    {
      "cell_type": "code",
      "metadata": {
        "colab": {
          "base_uri": "https://localhost:8080/"
        },
        "id": "NBrYG9rPVrsS",
        "outputId": "0711a6f5-81f1-4d6d-aba2-8c6ca12d31b8"
      },
      "source": [
        "_, accuracy = model.evaluate(X_test,Y_test)\n",
        "print('Accuracy: %.2f' % (accuracy*100))"
      ],
      "execution_count": 382,
      "outputs": [
        {
          "output_type": "stream",
          "name": "stdout",
          "text": [
            "2/2 [==============================] - 0s 11ms/step - loss: 70.5945 - accuracy: 0.0000e+00\n",
            "Accuracy: 0.00\n"
          ]
        }
      ]
    },
    {
      "cell_type": "code",
      "metadata": {
        "colab": {
          "base_uri": "https://localhost:8080/"
        },
        "id": "thr8QEFQVumd",
        "outputId": "2dd5ad11-26e0-4a6f-ff14-e963bfa395ac"
      },
      "source": [
        "_, accuracy = model.evaluate(X_train,Y_train)\n",
        "print('Accuracy: %.2f' % (accuracy*100))"
      ],
      "execution_count": 383,
      "outputs": [
        {
          "output_type": "stream",
          "name": "stdout",
          "text": [
            "8/8 [==============================] - 0s 2ms/step - loss: 104.4220 - accuracy: 0.0000e+00\n",
            "Accuracy: 0.00\n"
          ]
        }
      ]
    },
    {
      "cell_type": "code",
      "metadata": {
        "colab": {
          "base_uri": "https://localhost:8080/",
          "height": 1000
        },
        "id": "Zfc7BVH4YPnW",
        "outputId": "7e87b538-f432-4dca-988d-e311824dafe1"
      },
      "source": [
        "pip install tensorflow==2.6.0"
      ],
      "execution_count": 393,
      "outputs": [
        {
          "output_type": "stream",
          "name": "stdout",
          "text": [
            "\u001b[33mWARNING: Ignoring invalid distribution -ensorflow (/usr/local/lib/python3.7/dist-packages)\u001b[0m\n",
            "\u001b[33mWARNING: Ignoring invalid distribution -ensorflow (/usr/local/lib/python3.7/dist-packages)\u001b[0m\n",
            "Collecting tensorflow==2.6.0\n",
            "  Downloading tensorflow-2.6.0-cp37-cp37m-manylinux2010_x86_64.whl (458.3 MB)\n",
            "\u001b[K     |████████████████████████████████| 458.3 MB 9.4 kB/s \n",
            "\u001b[?25hRequirement already satisfied: keras-preprocessing~=1.1.2 in /usr/local/lib/python3.7/dist-packages (from tensorflow==2.6.0) (1.1.2)\n",
            "Requirement already satisfied: protobuf>=3.9.2 in /usr/local/lib/python3.7/dist-packages (from tensorflow==2.6.0) (3.17.3)\n",
            "Requirement already satisfied: grpcio<2.0,>=1.37.0 in /usr/local/lib/python3.7/dist-packages (from tensorflow==2.6.0) (1.41.0)\n",
            "Requirement already satisfied: typing-extensions~=3.7.4 in /usr/local/lib/python3.7/dist-packages (from tensorflow==2.6.0) (3.7.4.3)\n",
            "Requirement already satisfied: h5py~=3.1.0 in /usr/local/lib/python3.7/dist-packages (from tensorflow==2.6.0) (3.1.0)\n",
            "Requirement already satisfied: keras~=2.6 in /usr/local/lib/python3.7/dist-packages (from tensorflow==2.6.0) (2.6.0)\n",
            "Requirement already satisfied: numpy~=1.19.2 in /usr/local/lib/python3.7/dist-packages (from tensorflow==2.6.0) (1.19.5)\n",
            "Requirement already satisfied: clang~=5.0 in /usr/local/lib/python3.7/dist-packages (from tensorflow==2.6.0) (5.0)\n",
            "Requirement already satisfied: termcolor~=1.1.0 in /usr/local/lib/python3.7/dist-packages (from tensorflow==2.6.0) (1.1.0)\n",
            "Requirement already satisfied: gast==0.4.0 in /usr/local/lib/python3.7/dist-packages (from tensorflow==2.6.0) (0.4.0)\n",
            "Collecting tensorflow-estimator~=2.6\n",
            "  Downloading tensorflow_estimator-2.7.0-py2.py3-none-any.whl (463 kB)\n",
            "\u001b[K     |████████████████████████████████| 463 kB 54.8 MB/s \n",
            "\u001b[?25hRequirement already satisfied: google-pasta~=0.2 in /usr/local/lib/python3.7/dist-packages (from tensorflow==2.6.0) (0.2.0)\n",
            "Requirement already satisfied: flatbuffers~=1.12.0 in /usr/local/lib/python3.7/dist-packages (from tensorflow==2.6.0) (1.12)\n",
            "Collecting tensorboard~=2.6\n",
            "  Downloading tensorboard-2.7.0-py3-none-any.whl (5.8 MB)\n",
            "\u001b[K     |████████████████████████████████| 5.8 MB 46.5 MB/s \n",
            "\u001b[?25hRequirement already satisfied: astunparse~=1.6.3 in /usr/local/lib/python3.7/dist-packages (from tensorflow==2.6.0) (1.6.3)\n",
            "Requirement already satisfied: six~=1.15.0 in /usr/local/lib/python3.7/dist-packages (from tensorflow==2.6.0) (1.15.0)\n",
            "Requirement already satisfied: absl-py~=0.10 in /usr/local/lib/python3.7/dist-packages (from tensorflow==2.6.0) (0.12.0)\n",
            "Requirement already satisfied: wrapt~=1.12.1 in /usr/local/lib/python3.7/dist-packages (from tensorflow==2.6.0) (1.12.1)\n",
            "Requirement already satisfied: wheel~=0.35 in /usr/local/lib/python3.7/dist-packages (from tensorflow==2.6.0) (0.37.0)\n",
            "Requirement already satisfied: opt-einsum~=3.3.0 in /usr/local/lib/python3.7/dist-packages (from tensorflow==2.6.0) (3.3.0)\n",
            "Requirement already satisfied: cached-property in /usr/local/lib/python3.7/dist-packages (from h5py~=3.1.0->tensorflow==2.6.0) (1.5.2)\n",
            "Requirement already satisfied: requests<3,>=2.21.0 in /usr/local/lib/python3.7/dist-packages (from tensorboard~=2.6->tensorflow==2.6.0) (2.23.0)\n",
            "Requirement already satisfied: werkzeug>=0.11.15 in /usr/local/lib/python3.7/dist-packages (from tensorboard~=2.6->tensorflow==2.6.0) (1.0.1)\n",
            "Requirement already satisfied: google-auth-oauthlib<0.5,>=0.4.1 in /usr/local/lib/python3.7/dist-packages (from tensorboard~=2.6->tensorflow==2.6.0) (0.4.6)\n",
            "Requirement already satisfied: tensorboard-plugin-wit>=1.6.0 in /usr/local/lib/python3.7/dist-packages (from tensorboard~=2.6->tensorflow==2.6.0) (1.8.0)\n",
            "Requirement already satisfied: setuptools>=41.0.0 in /usr/local/lib/python3.7/dist-packages (from tensorboard~=2.6->tensorflow==2.6.0) (57.4.0)\n",
            "Requirement already satisfied: tensorboard-data-server<0.7.0,>=0.6.0 in /usr/local/lib/python3.7/dist-packages (from tensorboard~=2.6->tensorflow==2.6.0) (0.6.1)\n",
            "Requirement already satisfied: markdown>=2.6.8 in /usr/local/lib/python3.7/dist-packages (from tensorboard~=2.6->tensorflow==2.6.0) (3.3.4)\n",
            "Requirement already satisfied: google-auth<3,>=1.6.3 in /usr/local/lib/python3.7/dist-packages (from tensorboard~=2.6->tensorflow==2.6.0) (1.35.0)\n",
            "Requirement already satisfied: rsa<5,>=3.1.4 in /usr/local/lib/python3.7/dist-packages (from google-auth<3,>=1.6.3->tensorboard~=2.6->tensorflow==2.6.0) (4.7.2)\n",
            "Requirement already satisfied: cachetools<5.0,>=2.0.0 in /usr/local/lib/python3.7/dist-packages (from google-auth<3,>=1.6.3->tensorboard~=2.6->tensorflow==2.6.0) (4.2.4)\n",
            "Requirement already satisfied: pyasn1-modules>=0.2.1 in /usr/local/lib/python3.7/dist-packages (from google-auth<3,>=1.6.3->tensorboard~=2.6->tensorflow==2.6.0) (0.2.8)\n",
            "Requirement already satisfied: requests-oauthlib>=0.7.0 in /usr/local/lib/python3.7/dist-packages (from google-auth-oauthlib<0.5,>=0.4.1->tensorboard~=2.6->tensorflow==2.6.0) (1.3.0)\n",
            "Requirement already satisfied: importlib-metadata in /usr/local/lib/python3.7/dist-packages (from markdown>=2.6.8->tensorboard~=2.6->tensorflow==2.6.0) (4.8.1)\n",
            "Requirement already satisfied: pyasn1<0.5.0,>=0.4.6 in /usr/local/lib/python3.7/dist-packages (from pyasn1-modules>=0.2.1->google-auth<3,>=1.6.3->tensorboard~=2.6->tensorflow==2.6.0) (0.4.8)\n",
            "Requirement already satisfied: idna<3,>=2.5 in /usr/local/lib/python3.7/dist-packages (from requests<3,>=2.21.0->tensorboard~=2.6->tensorflow==2.6.0) (2.10)\n",
            "Requirement already satisfied: certifi>=2017.4.17 in /usr/local/lib/python3.7/dist-packages (from requests<3,>=2.21.0->tensorboard~=2.6->tensorflow==2.6.0) (2021.5.30)\n",
            "Requirement already satisfied: chardet<4,>=3.0.2 in /usr/local/lib/python3.7/dist-packages (from requests<3,>=2.21.0->tensorboard~=2.6->tensorflow==2.6.0) (3.0.4)\n",
            "Requirement already satisfied: urllib3!=1.25.0,!=1.25.1,<1.26,>=1.21.1 in /usr/local/lib/python3.7/dist-packages (from requests<3,>=2.21.0->tensorboard~=2.6->tensorflow==2.6.0) (1.24.3)\n",
            "Requirement already satisfied: oauthlib>=3.0.0 in /usr/local/lib/python3.7/dist-packages (from requests-oauthlib>=0.7.0->google-auth-oauthlib<0.5,>=0.4.1->tensorboard~=2.6->tensorflow==2.6.0) (3.1.1)\n",
            "Requirement already satisfied: zipp>=0.5 in /usr/local/lib/python3.7/dist-packages (from importlib-metadata->markdown>=2.6.8->tensorboard~=2.6->tensorflow==2.6.0) (3.6.0)\n",
            "\u001b[33mWARNING: Ignoring invalid distribution -ensorflow (/usr/local/lib/python3.7/dist-packages)\u001b[0m\n",
            "Installing collected packages: tensorflow-estimator, tensorboard, tensorflow\n",
            "  Attempting uninstall: tensorflow-estimator\n",
            "\u001b[33m    WARNING: Ignoring invalid distribution -ensorflow (/usr/local/lib/python3.7/dist-packages)\u001b[0m\n",
            "    Found existing installation: tensorflow-estimator 1.13.0\n",
            "    Uninstalling tensorflow-estimator-1.13.0:\n",
            "      Successfully uninstalled tensorflow-estimator-1.13.0\n",
            "  Attempting uninstall: tensorboard\n",
            "\u001b[33m    WARNING: Ignoring invalid distribution -ensorflow (/usr/local/lib/python3.7/dist-packages)\u001b[0m\n",
            "    Found existing installation: tensorboard 1.13.1\n",
            "    Uninstalling tensorboard-1.13.1:\n",
            "      Successfully uninstalled tensorboard-1.13.1\n",
            "  Attempting uninstall: tensorflow\n",
            "\u001b[33m    WARNING: Ignoring invalid distribution -ensorflow (/usr/local/lib/python3.7/dist-packages)\u001b[0m\n",
            "    Found existing installation: tensorflow 1.13.2\n",
            "    Uninstalling tensorflow-1.13.2:\n",
            "      Successfully uninstalled tensorflow-1.13.2\n",
            "\u001b[33mWARNING: Ignoring invalid distribution -ensorflow (/usr/local/lib/python3.7/dist-packages)\u001b[0m\n",
            "\u001b[33mWARNING: Ignoring invalid distribution -ensorflow (/usr/local/lib/python3.7/dist-packages)\u001b[0m\n",
            "\u001b[33mWARNING: Ignoring invalid distribution -ensorflow (/usr/local/lib/python3.7/dist-packages)\u001b[0m\n",
            "Successfully installed tensorboard-2.7.0 tensorflow-2.6.0 tensorflow-estimator-2.7.0\n"
          ]
        },
        {
          "output_type": "display_data",
          "data": {
            "application/vnd.colab-display-data+json": {
              "pip_warning": {
                "packages": [
                  "tensorboard",
                  "tensorflow",
                  "tensorflow_estimator"
                ]
              }
            }
          },
          "metadata": {}
        }
      ]
    },
    {
      "cell_type": "code",
      "metadata": {
        "id": "62nN0Cj3Xu4R"
      },
      "source": [
        ""
      ],
      "execution_count": null,
      "outputs": []
    }
  ]
}