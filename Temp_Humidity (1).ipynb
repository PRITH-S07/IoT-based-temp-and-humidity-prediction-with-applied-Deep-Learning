{
  "nbformat": 4,
  "nbformat_minor": 0,
  "metadata": {
    "colab": {
      "name": "Temp_Humidity.ipynb",
      "provenance": []
    },
    "kernelspec": {
      "name": "python3",
      "display_name": "Python 3"
    },
    "language_info": {
      "name": "python"
    }
  },
  "cells": [
    {
      "cell_type": "code",
      "metadata": {
        "id": "BtAHvd0uFQX6"
      },
      "source": [
        "import csv\n",
        "import numpy as np\n",
        "import pandas as pd \n",
        "import matplotlib.pyplot as plt"
      ],
      "execution_count": null,
      "outputs": []
    },
    {
      "cell_type": "code",
      "metadata": {
        "id": "XQ3FsdZCFzGO"
      },
      "source": [
        "df=pd.read_csv('log_temp.csv',header=None)\n",
        "df.head()"
      ],
      "execution_count": null,
      "outputs": []
    },
    {
      "cell_type": "code",
      "metadata": {
        "id": "uTZW-ueHF4NM"
      },
      "source": [
        "df=df.rename(columns={0:'Date',1:'Time_Stamp',2:'Temperature',3:'Humidity'})"
      ],
      "execution_count": null,
      "outputs": []
    },
    {
      "cell_type": "code",
      "metadata": {
        "id": "4-zVik82GDBi"
      },
      "source": [
        "df.head()"
      ],
      "execution_count": null,
      "outputs": []
    },
    {
      "cell_type": "code",
      "metadata": {
        "colab": {
          "base_uri": "https://localhost:8080/"
        },
        "id": "v1rYQpNkGD7W",
        "outputId": "48405bd1-62c5-46f9-9da6-14dfa67f49f4"
      },
      "source": [
        "#df.info()\n",
        "df=df.loc[df['Temperature']!='error']\n",
        "df.info()"
      ],
      "execution_count": null,
      "outputs": [
        {
          "output_type": "stream",
          "name": "stdout",
          "text": [
            "<class 'pandas.core.frame.DataFrame'>\n",
            "Int64Index: 320 entries, 0 to 335\n",
            "Data columns (total 4 columns):\n",
            " #   Column       Non-Null Count  Dtype \n",
            "---  ------       --------------  ----- \n",
            " 0   Date         320 non-null    object\n",
            " 1   Time_Stamp   320 non-null    object\n",
            " 2   Temperature  320 non-null    object\n",
            " 3   Humidity     320 non-null    object\n",
            "dtypes: object(4)\n",
            "memory usage: 12.5+ KB\n"
          ]
        }
      ]
    },
    {
      "cell_type": "code",
      "metadata": {
        "id": "MDlcLyAhHSuf"
      },
      "source": [
        "df['Temperature'] = df['Temperature'].astype(str).str.replace('T=', '')\n",
        "df['Humidity'] = df['Humidity'].astype(str).str.replace('H=', '')\n",
        "df['Temperature']=pd.to_numeric(df['Temperature'], errors='coerce')\n",
        "df['Humidity']=pd.to_numeric(df['Humidity'], errors='coerce')\n",
        "#df['Temperature']=pd.to_numeric(df['Temperature'], errors='coerce').fillna(0.0)\n",
        "#df['Humidity']=pd.to_numeric(df['Humidity'], errors='coerce').fillna(0.0)"
      ],
      "execution_count": null,
      "outputs": []
    },
    {
      "cell_type": "code",
      "metadata": {
        "colab": {
          "base_uri": "https://localhost:8080/"
        },
        "id": "yg26KhPIHhkt",
        "outputId": "1ce90b62-14d1-49ef-f267-43c5cf1de4cf"
      },
      "source": [
        "df.info()"
      ],
      "execution_count": null,
      "outputs": [
        {
          "output_type": "stream",
          "name": "stdout",
          "text": [
            "<class 'pandas.core.frame.DataFrame'>\n",
            "Int64Index: 320 entries, 0 to 335\n",
            "Data columns (total 4 columns):\n",
            " #   Column       Non-Null Count  Dtype  \n",
            "---  ------       --------------  -----  \n",
            " 0   Date         320 non-null    object \n",
            " 1   Time_Stamp   320 non-null    object \n",
            " 2   Temperature  320 non-null    float64\n",
            " 3   Humidity     320 non-null    float64\n",
            "dtypes: float64(2), object(2)\n",
            "memory usage: 12.5+ KB\n"
          ]
        }
      ]
    },
    {
      "cell_type": "code",
      "metadata": {
        "colab": {
          "base_uri": "https://localhost:8080/"
        },
        "id": "ArfQfUBWGVtg",
        "outputId": "5f353045-b4aa-432c-dc6e-f4acdbb75189"
      },
      "source": [
        "df.shape"
      ],
      "execution_count": null,
      "outputs": [
        {
          "output_type": "execute_result",
          "data": {
            "text/plain": [
              "(320, 4)"
            ]
          },
          "metadata": {},
          "execution_count": 8
        }
      ]
    },
    {
      "cell_type": "code",
      "metadata": {
        "colab": {
          "base_uri": "https://localhost:8080/",
          "height": 580
        },
        "id": "z7fBZbnnHBoX",
        "outputId": "76e29b57-6adb-4297-96f9-3bc8e619cbc3"
      },
      "source": [
        "ct=0\n",
        "full_columns=['Temperature','Humidity']\n",
        "for i in range(2,df.shape[1]):\n",
        "  plt.plot(df.values[:, i:i+1])\n",
        "  plt.title(df.columns[i])\n",
        "  plt.show()\n",
        "  print('--------------')\n",
        "  ct+=1"
      ],
      "execution_count": null,
      "outputs": [
        {
          "output_type": "display_data",
          "data": {
            "image/png": "[encoded data removed]",
            "text/plain": [
              "<Figure size 432x288 with 1 Axes>"
            ]
          },
          "metadata": {
            "needs_background": "light"
          }
        },
        {
          "output_type": "stream",
          "name": "stdout",
          "text": [
            "--------------\n"
          ]
        },
        {
          "output_type": "display_data",
          "data": {
            "image/png": "[encoded data removed]",
            "text/plain": [
              "<Figure size 432x288 with 1 Axes>"
            ]
          },
          "metadata": {
            "needs_background": "light"
          }
        },
        {
          "output_type": "stream",
          "name": "stdout",
          "text": [
            "--------------\n"
          ]
        }
      ]
    },
    {
      "cell_type": "markdown",
      "metadata": {
        "id": "Thx5BjTRccUC"
      },
      "source": [
        "##LSTM_APPROACH"
      ]
    },
    {
      "cell_type": "code",
      "metadata": {
        "id": "1q9L25j7LpbI"
      },
      "source": [
        "import math\n",
        "val=math.floor(80/100*len(df))-1\n",
        "train_data=df.iloc[:val, 2:].values"
      ],
      "execution_count": null,
      "outputs": []
    },
    {
      "cell_type": "code",
      "metadata": {
        "colab": {
          "base_uri": "https://localhost:8080/"
        },
        "id": "M50J47UCEeAN",
        "outputId": "30fc4554-950c-4466-9961-9a16cacbebf8"
      },
      "source": [
        "train_data.shape"
      ],
      "execution_count": null,
      "outputs": [
        {
          "output_type": "execute_result",
          "data": {
            "text/plain": [
              "(255, 2)"
            ]
          },
          "metadata": {},
          "execution_count": 11
        }
      ]
    },
    {
      "cell_type": "code",
      "metadata": {
        "id": "XZHdm8opEltp"
      },
      "source": [
        "from sklearn.preprocessing import MinMaxScaler\n",
        "scaler = MinMaxScaler(feature_range = (0, 1))\n",
        "train_s = scaler.fit_transform(train_data)"
      ],
      "execution_count": null,
      "outputs": []
    },
    {
      "cell_type": "code",
      "metadata": {
        "colab": {
          "base_uri": "https://localhost:8080/"
        },
        "id": "xoKNUP00FocQ",
        "outputId": "d25926be-466c-4ae5-bb40-7bcd8b7cf784"
      },
      "source": [
        "train_s.shape"
      ],
      "execution_count": null,
      "outputs": [
        {
          "output_type": "execute_result",
          "data": {
            "text/plain": [
              "(255, 2)"
            ]
          },
          "metadata": {},
          "execution_count": 13
        }
      ]
    },
    {
      "cell_type": "code",
      "metadata": {
        "id": "nx5cxOHCEp_B"
      },
      "source": [
        "X_train = []\n",
        "y_train = []\n",
        "for i in range(3, val):\n",
        "    X_train.append(train_s[i-3:i, 0:])\n",
        "    y_train.append(train_s[i, 0:])\n",
        "X_train, y_train = np.array(X_train), np.array(y_train)\n",
        "\n",
        "X_train = np.reshape(X_train, (X_train.shape[0], X_train.shape[1], 2))"
      ],
      "execution_count": null,
      "outputs": []
    },
    {
      "cell_type": "code",
      "metadata": {
        "id": "1CwTsS9kE3GG"
      },
      "source": [
        "from keras.models import Sequential\n",
        "from keras.layers import Dense\n",
        "from keras.layers import LSTM\n",
        "from keras.layers import Dropout"
      ],
      "execution_count": null,
      "outputs": []
    },
    {
      "cell_type": "code",
      "metadata": {
        "colab": {
          "base_uri": "https://localhost:8080/"
        },
        "id": "sr4iH7emE_ND",
        "outputId": "e00f920d-d38b-43bf-faa7-a2dae62b901d"
      },
      "source": [
        "X_train.shape"
      ],
      "execution_count": null,
      "outputs": [
        {
          "output_type": "execute_result",
          "data": {
            "text/plain": [
              "(252, 3, 2)"
            ]
          },
          "metadata": {},
          "execution_count": 16
        }
      ]
    },
    {
      "cell_type": "code",
      "metadata": {
        "colab": {
          "base_uri": "https://localhost:8080/"
        },
        "id": "0h9HKAFROa4p",
        "outputId": "aae33d53-5a6f-42ef-8794-5ce97fd3e235"
      },
      "source": [
        "test_data=df.iloc[val:, 2:].values\n",
        "print(test_data.shape)\n",
        "from sklearn.preprocessing import MinMaxScaler\n",
        "scaler = MinMaxScaler(feature_range = (0, 1))\n",
        "test_s = scaler.fit_transform(test_data)\n",
        "X_test = []\n",
        "y_test = []\n",
        "for i in range(3, len(df)-val):\n",
        "    X_test.append(test_s[i-3:i, 0:])\n",
        "    y_test.append(test_s[i, 0:])\n",
        "X_test, y_test = np.array(X_test), np.array(y_test)\n",
        "print(X_test.shape)"
      ],
      "execution_count": null,
      "outputs": [
        {
          "output_type": "stream",
          "name": "stdout",
          "text": [
            "(65, 2)\n",
            "(62, 3, 2)\n"
          ]
        }
      ]
    },
    {
      "cell_type": "code",
      "metadata": {
        "colab": {
          "base_uri": "https://localhost:8080/"
        },
        "id": "fPhk3WgbE5qd",
        "outputId": "3a32d343-625e-4177-a665-7db14cbac1a9"
      },
      "source": [
        "seq = Sequential()\n",
        "seq.add(LSTM(units = 50, return_sequences = True, input_shape = (X_train.shape[1], 2)))\n",
        "seq.add(LSTM(units = 50, return_sequences = True))\n",
        "seq.add(Dropout(0.2))\n",
        "\n",
        "seq.add(LSTM(units = 50, return_sequences = True))\n",
        "seq.add(Dropout(0.2))\n",
        "\n",
        "seq.add(LSTM(units = 50))\n",
        "\n",
        "seq.add(Dense(units = 2))\n",
        "\n",
        "seq.compile(optimizer = 'adam', loss = 'mean_squared_error',  metrics=['accuracy'])\n",
        "\n",
        "hist=seq.fit(X_train, y_train, epochs = 10, batch_size = 32, validation_data=(X_test, y_test))\n",
        "seq.save('lstm.hdf5')"
      ],
      "execution_count": null,
      "outputs": [
        {
          "output_type": "stream",
          "name": "stdout",
          "text": [
            "Epoch 1/10\n",
            "8/8 [==============================] - 9s 248ms/step - loss: 0.1155 - accuracy: 0.8770 - val_loss: 0.1856 - val_accuracy: 0.8065\n",
            "Epoch 2/10\n",
            "8/8 [==============================] - 0s 17ms/step - loss: 0.0716 - accuracy: 0.9960 - val_loss: 0.1048 - val_accuracy: 0.8065\n",
            "Epoch 3/10\n",
            "8/8 [==============================] - 0s 15ms/step - loss: 0.0276 - accuracy: 0.9960 - val_loss: 0.0531 - val_accuracy: 0.8065\n",
            "Epoch 4/10\n",
            "8/8 [==============================] - 0s 15ms/step - loss: 0.0212 - accuracy: 0.9960 - val_loss: 0.0629 - val_accuracy: 0.8065\n",
            "Epoch 5/10\n",
            "8/8 [==============================] - 0s 17ms/step - loss: 0.0167 - accuracy: 0.9960 - val_loss: 0.0674 - val_accuracy: 0.8065\n",
            "Epoch 6/10\n",
            "8/8 [==============================] - 0s 15ms/step - loss: 0.0149 - accuracy: 0.9960 - val_loss: 0.0571 - val_accuracy: 0.8065\n",
            "Epoch 7/10\n",
            "8/8 [==============================] - 0s 17ms/step - loss: 0.0135 - accuracy: 0.9960 - val_loss: 0.0512 - val_accuracy: 0.8065\n",
            "Epoch 8/10\n",
            "8/8 [==============================] - 0s 15ms/step - loss: 0.0117 - accuracy: 0.9960 - val_loss: 0.0508 - val_accuracy: 0.8065\n",
            "Epoch 9/10\n",
            "8/8 [==============================] - 0s 15ms/step - loss: 0.0091 - accuracy: 0.9960 - val_loss: 0.0480 - val_accuracy: 0.8065\n",
            "Epoch 10/10\n",
            "8/8 [==============================] - 0s 17ms/step - loss: 0.0068 - accuracy: 0.9960 - val_loss: 0.0465 - val_accuracy: 0.8065\n"
          ]
        }
      ]
    },
    {
      "cell_type": "code",
      "metadata": {
        "colab": {
          "base_uri": "https://localhost:8080/",
          "height": 87
        },
        "id": "zkI-VRgBFFG4",
        "outputId": "7ba7ad60-9637-4128-9195-11dbc044f054"
      },
      "source": [
        "test_data=df.iloc[val:, 2:].values\n",
        "print(test_data.shape)\n",
        "from sklearn.preprocessing import MinMaxScaler\n",
        "scaler = MinMaxScaler(feature_range = (0, 1))\n",
        "test_s = scaler.fit_transform(test_data)\n",
        "X_test = []\n",
        "y_test = []\n",
        "for i in range(1, len(df)-val):\n",
        "    X_test.append(test_s[i-1:i, 0:])\n",
        "    y_test.append(test_s[i, 0:])\n",
        "X_test, y_test = np.array(X_test), np.array(y_test)\n",
        "print(X_test.shape)\n",
        "\n",
        "'''X_test = np.reshape(X_test, (X_test.shape[0], X_test.shape[1], 2))\n",
        "predicted_stock_price = seq.predict(X_test)\n",
        "predicted_stock_price = scaler.inverse_transform(predicted_stock_price)'''"
      ],
      "execution_count": null,
      "outputs": [
        {
          "output_type": "stream",
          "name": "stdout",
          "text": [
            "(65, 2)\n",
            "(64, 1, 2)\n"
          ]
        },
        {
          "output_type": "execute_result",
          "data": {
            "application/vnd.google.colaboratory.intrinsic+json": {
              "type": "string"
            },
            "text/plain": [
              "'X_test = np.reshape(X_test, (X_test.shape[0], X_test.shape[1], 2))\\npredicted_stock_price = seq.predict(X_test)\\npredicted_stock_price = scaler.inverse_transform(predicted_stock_price)'"
            ]
          },
          "metadata": {},
          "execution_count": 19
        }
      ]
    },
    {
      "cell_type": "code",
      "metadata": {
        "colab": {
          "base_uri": "https://localhost:8080/",
          "height": 87
        },
        "id": "HzAUkCUGHf-s",
        "outputId": "36c55458-dde3-4b9e-ce4a-9b7e970488ce"
      },
      "source": [
        "'''X_test = []\n",
        "y_test = []\n",
        "for i in range(val,):\n",
        "    X_test.append(train_s[i-20:i, 0:])\n",
        "    y_test.append(train_s[i, 0:])\n",
        "X_train, y_train = np.array(X_train), np.array(y_train)\n",
        "\n",
        "X_train = np.reshape(X_train, (X_train.shape[0], X_train.shape[1], 2))\n",
        "predicted_stock_price = seq.predict(X_train)\n",
        "predicted_stock_price = scaler.inverse_transform(predicted_stock_price)\n",
        "print(predicted_stock_price)'''"
      ],
      "execution_count": null,
      "outputs": [
        {
          "output_type": "execute_result",
          "data": {
            "application/vnd.google.colaboratory.intrinsic+json": {
              "type": "string"
            },
            "text/plain": [
              "'X_test = []\\ny_test = []\\nfor i in range(val,):\\n    X_test.append(train_s[i-20:i, 0:])\\n    y_test.append(train_s[i, 0:])\\nX_train, y_train = np.array(X_train), np.array(y_train)\\n\\nX_train = np.reshape(X_train, (X_train.shape[0], X_train.shape[1], 2))\\npredicted_stock_price = seq.predict(X_train)\\npredicted_stock_price = scaler.inverse_transform(predicted_stock_price)\\nprint(predicted_stock_price)'"
            ]
          },
          "metadata": {},
          "execution_count": 20
        }
      ]
    },
    {
      "cell_type": "code",
      "metadata": {
        "colab": {
          "base_uri": "https://localhost:8080/",
          "height": 295
        },
        "id": "wKuQ2rsbH7sD",
        "outputId": "7e6cadfe-653f-47fb-b317-30d30e48ee4d"
      },
      "source": [
        "plt.plot(hist.history['loss'])\n",
        "plt.plot(hist.history['val_loss'])\n",
        "plt.title('Model Loss: Training versus Validation')\n",
        "plt.ylabel('Loss (MAE)')\n",
        "plt.xlabel('Epoch')\n",
        "plt.legend(['train', 'test'], loc='center right')\n",
        "plt.show()"
      ],
      "execution_count": null,
      "outputs": [
        {
          "output_type": "display_data",
          "data": {
            "image/png": "[encoded data removed]",
            "text/plain": [
              "<Figure size 432x288 with 1 Axes>"
            ]
          },
          "metadata": {
            "needs_background": "light"
          }
        }
      ]
    },
    {
      "cell_type": "code",
      "metadata": {
        "colab": {
          "base_uri": "https://localhost:8080/",
          "height": 295
        },
        "id": "UelLQ8POshhT",
        "outputId": "d51d9aae-4bfa-46e3-9180-886a0a305248"
      },
      "source": [
        "plt.plot(hist.history['accuracy'])\n",
        "plt.plot(hist.history['val_accuracy'])\n",
        "plt.title('Model accuracy: Training versus Validation')\n",
        "plt.ylabel('Accuracy')\n",
        "plt.xlabel('Epoch')\n",
        "plt.legend(['train', 'test'], loc='center right')\n",
        "plt.show()"
      ],
      "execution_count": null,
      "outputs": [
        {
          "output_type": "display_data",
          "data": {
            "image/png": "[encoded data removed]",
            "text/plain": [
              "<Figure size 432x288 with 1 Axes>"
            ]
          },
          "metadata": {
            "needs_background": "light"
          }
        }
      ]
    },
    {
      "cell_type": "code",
      "metadata": {
        "id": "0TBKZy_IuB5v"
      },
      "source": [
        ""
      ],
      "execution_count": null,
      "outputs": []
    }
  ]
}